{
 "cells": [
  {
   "metadata": {},
   "cell_type": "markdown",
   "source": "psycopg3 on postgres db jupyter notebook",
   "id": "8a77807f92f26ee"
  },
  {
   "metadata": {
    "ExecuteTime": {
     "end_time": "2024-10-22T11:07:17.594490Z",
     "start_time": "2024-10-22T11:07:17.591396Z"
    }
   },
   "cell_type": "code",
   "source": "import psycopg as pg",
   "id": "f4da05e609952804",
   "outputs": [],
   "execution_count": 80
  },
  {
   "metadata": {
    "ExecuteTime": {
     "end_time": "2024-10-22T11:07:18.450093Z",
     "start_time": "2024-10-22T11:07:18.419453Z"
    }
   },
   "cell_type": "code",
   "source": "conn = pg.connect(\"host=localhost port=5432 dbname=dvdrental user=postgres password=1234\")",
   "id": "4ff8a5488b47066d",
   "outputs": [],
   "execution_count": 81
  },
  {
   "metadata": {
    "ExecuteTime": {
     "end_time": "2024-10-22T11:07:19.260687Z",
     "start_time": "2024-10-22T11:07:19.257490Z"
    }
   },
   "cell_type": "code",
   "source": "cur = conn.cursor()",
   "id": "15b7a3c3bf5ee776",
   "outputs": [],
   "execution_count": 82
  },
  {
   "metadata": {
    "ExecuteTime": {
     "end_time": "2024-10-22T10:58:09.317422Z",
     "start_time": "2024-10-22T10:58:09.303284Z"
    }
   },
   "cell_type": "code",
   "source": "cur.execute('SELECT * FROM payment')",
   "id": "5564a0bca3ec9e0a",
   "outputs": [
    {
     "data": {
      "text/plain": [
       "<psycopg.Cursor [TUPLES_OK] [INTRANS] (host=localhost user=postgres database=dvdrental) at 0x2c2a8a1dc10>"
      ]
     },
     "execution_count": 5,
     "metadata": {},
     "output_type": "execute_result"
    }
   ],
   "execution_count": 5
  },
  {
   "metadata": {
    "ExecuteTime": {
     "end_time": "2024-10-22T11:01:05.370705Z",
     "start_time": "2024-10-22T11:01:05.366586Z"
    }
   },
   "cell_type": "code",
   "source": "cur.fetchone()",
   "id": "10b0c7b715e8f473",
   "outputs": [
    {
     "data": {
      "text/plain": [
       "(17525,\n",
       " 345,\n",
       " 2,\n",
       " 2766,\n",
       " Decimal('4.99'),\n",
       " datetime.datetime(2007, 2, 19, 16, 13, 41, 996577))"
      ]
     },
     "execution_count": 17,
     "metadata": {},
     "output_type": "execute_result"
    }
   ],
   "execution_count": 17
  },
  {
   "metadata": {
    "ExecuteTime": {
     "end_time": "2024-10-22T11:01:35.900095Z",
     "start_time": "2024-10-22T11:01:35.897020Z"
    }
   },
   "cell_type": "code",
   "source": "data = cur.fetchmany(10)",
   "id": "5096cffdfcdaa336",
   "outputs": [],
   "execution_count": 37
  },
  {
   "metadata": {
    "ExecuteTime": {
     "end_time": "2024-10-22T11:01:37.556562Z",
     "start_time": "2024-10-22T11:01:37.552629Z"
    }
   },
   "cell_type": "code",
   "source": "data[0][1]",
   "id": "854f46b1d4e956ba",
   "outputs": [
    {
     "data": {
      "text/plain": [
       "351"
      ]
     },
     "execution_count": 42,
     "metadata": {},
     "output_type": "execute_result"
    }
   ],
   "execution_count": 42
  },
  {
   "metadata": {
    "ExecuteTime": {
     "end_time": "2024-10-22T11:07:21.000826Z",
     "start_time": "2024-10-22T11:07:20.998365Z"
    }
   },
   "cell_type": "code",
   "source": [
    "add = ',title '\n",
    "comm = 'SELECT description' + add + 'FROM film'"
   ],
   "id": "42516d949e17df43",
   "outputs": [],
   "execution_count": 83
  },
  {
   "metadata": {
    "ExecuteTime": {
     "end_time": "2024-10-22T11:07:45.326463Z",
     "start_time": "2024-10-22T11:07:45.321113Z"
    }
   },
   "cell_type": "code",
   "source": [
    "cur.execute(comm)\n",
    "cur.fetchone()"
   ],
   "id": "245a73e4a29be75c",
   "outputs": [
    {
     "data": {
      "text/plain": [
       "('A Fateful Reflection of a Moose And a Husband who must Overcome a Monkey in Nigeria',\n",
       " 'Chamber Italian')"
      ]
     },
     "execution_count": 85,
     "metadata": {},
     "output_type": "execute_result"
    }
   ],
   "execution_count": 85
  },
  {
   "metadata": {
    "ExecuteTime": {
     "end_time": "2024-10-22T11:08:00.217997Z",
     "start_time": "2024-10-22T11:08:00.214181Z"
    }
   },
   "cell_type": "code",
   "source": "conn.close()",
   "id": "f3c2762eec962942",
   "outputs": [],
   "execution_count": 86
  }
 ],
 "metadata": {
  "kernelspec": {
   "display_name": "Python 3",
   "language": "python",
   "name": "python3"
  },
  "language_info": {
   "codemirror_mode": {
    "name": "ipython",
    "version": 2
   },
   "file_extension": ".py",
   "mimetype": "text/x-python",
   "name": "python",
   "nbconvert_exporter": "python",
   "pygments_lexer": "ipython2",
   "version": "2.7.6"
  }
 },
 "nbformat": 4,
 "nbformat_minor": 5
}
